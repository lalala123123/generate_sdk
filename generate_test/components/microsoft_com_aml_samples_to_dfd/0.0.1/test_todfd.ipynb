{
 "cells": [
  {
   "cell_type": "code",
   "execution_count": 2,
   "metadata": {
    "tags": [
     "outputPrepend",
     "outputPrepend",
     "outputPrepend",
     "outputPrepend"
    ]
   },
   "outputs": [
    {
     "output_type": "stream",
     "name": "stdout",
     "text": "=1.1.5.*->azureml-pipeline-core==1.1.5->azureml-designer-internal==0.0.18->azureml-designer-classic-modules) (3.7.0)\nRequirement already satisfied: msrest>=0.5.1 in c:\\users\\jietong.fareast\\appdata\\local\\continuum\\anaconda3\\envs\\aml\\lib\\site-packages (from azureml-core==1.1.5.*->azureml-pipeline-core==1.1.5->azureml-designer-internal==0.0.18->azureml-designer-classic-modules) (0.6.4)\nRequirement already satisfied: ndg-httpsclient in c:\\users\\jietong.fareast\\appdata\\local\\continuum\\anaconda3\\envs\\aml\\lib\\site-packages (from azureml-core==1.1.5.*->azureml-pipeline-core==1.1.5->azureml-designer-internal==0.0.18->azureml-designer-classic-modules) (0.5.1)\nRequirement already satisfied: PyJWT in c:\\users\\jietong.fareast\\appdata\\local\\continuum\\anaconda3\\envs\\aml\\lib\\site-packages (from azureml-core==1.1.5.*->azureml-pipeline-core==1.1.5->azureml-designer-internal==0.0.18->azureml-designer-classic-modules) (1.7.1)\nRequirement already satisfied: contextlib2 in c:\\users\\jietong.fareast\\appdata\\local\\continuum\\anaconda3\\envs\\aml\\lib\\site-packages (from azureml-core==1.1.5.*->azureml-pipeline-core==1.1.5->azureml-designer-internal==0.0.18->azureml-designer-classic-modules) (0.5.5)\nRequirement already satisfied: pyopenssl in c:\\users\\jietong.fareast\\appdata\\local\\continuum\\anaconda3\\envs\\aml\\lib\\site-packages (from azureml-core==1.1.5.*->azureml-pipeline-core==1.1.5->azureml-designer-internal==0.0.18->azureml-designer-classic-modules) (18.0.0)\nRequirement already satisfied: azure-mgmt-resource>=1.2.1 in c:\\users\\jietong.fareast\\appdata\\local\\continuum\\anaconda3\\envs\\aml\\lib\\site-packages (from azureml-core==1.1.5.*->azureml-pipeline-core==1.1.5->azureml-designer-internal==0.0.18->azureml-designer-classic-modules) (2.1.0)\nRequirement already satisfied: adal>=1.2.0 in c:\\users\\jietong.fareast\\appdata\\local\\continuum\\anaconda3\\envs\\aml\\lib\\site-packages (from azureml-core==1.1.5.*->azureml-pipeline-core==1.1.5->azureml-designer-internal==0.0.18->azureml-designer-classic-modules) (1.2.1)\nRequirement already satisfied: jsonpickle in c:\\users\\jietong.fareast\\appdata\\local\\continuum\\anaconda3\\envs\\aml\\lib\\site-packages (from azureml-core==1.1.5.*->azureml-pipeline-core==1.1.5->azureml-designer-internal==0.0.18->azureml-designer-classic-modules) (1.1)\nRequirement already satisfied: azure-mgmt-authorization>=0.40.0 in c:\\users\\jietong.fareast\\appdata\\local\\continuum\\anaconda3\\envs\\aml\\lib\\site-packages (from azureml-core==1.1.5.*->azureml-pipeline-core==1.1.5->azureml-designer-internal==0.0.18->azureml-designer-classic-modules) (0.51.1)\nCollecting cloudpickle>=1.1.0 (from azureml-dataprep[fuse]<1.4.0a,>=1.3.5->azureml-defaults==1.1.5.1->azureml-designer-internal==0.0.18->azureml-designer-classic-modules)\n  Using cached https://files.pythonhosted.org/packages/ea/0b/189cd3c19faf362ff2df5f301456c6cf8571ef6684644cfdfdbff293825c/cloudpickle-1.3.0-py2.py3-none-any.whl\nCollecting azureml-dataprep-native<15.0.0,>=14.1.0 (from azureml-dataprep[fuse]<1.4.0a,>=1.3.5->azureml-defaults==1.1.5.1->azureml-designer-internal==0.0.18->azureml-designer-classic-modules)\n  Using cached https://files.pythonhosted.org/packages/fd/33/c04587961da45efdbe114ece55a779e23936e524b9a85f8c52820c9eadd9/azureml_dataprep_native-14.1.0-cp36-cp36m-win_amd64.whl\nCollecting azure-identity>=1.2.0 (from azureml-dataprep[fuse]<1.4.0a,>=1.3.5->azureml-defaults==1.1.5.1->azureml-designer-internal==0.0.18->azureml-designer-classic-modules)\n  Using cached https://files.pythonhosted.org/packages/9b/c9/3ca9cdb73e72329907348dd1fcd34eb03d4d49f9b14e078b6d0e6f8fabc0/azure_identity-1.3.0-py2.py3-none-any.whl\nCollecting fusepy>=3.0.1; extra == \"fuse\" (from azureml-dataprep[fuse]<1.4.0a,>=1.3.5->azureml-defaults==1.1.5.1->azureml-designer-internal==0.0.18->azureml-designer-classic-modules)\nCollecting liac-arff>=2.1.1 (from azureml-model-management-sdk==1.0.1b6.post1->azureml-defaults==1.1.5.1->azureml-designer-internal==0.0.18->azureml-designer-classic-modules)\nCollecting dill>=0.2.7.1 (from azureml-model-management-sdk==1.0.1b6.post1->azureml-defaults==1.1.5.1->azureml-designer-internal==0.0.18->azureml-designer-classic-modules)\nRequirement already satisfied: click>=5.1 in c:\\users\\jietong.fareast\\appdata\\local\\continuum\\anaconda3\\envs\\aml\\lib\\site-packages (from flask==1.0.3->azureml-defaults==1.1.5.1->azureml-designer-internal==0.0.18->azureml-designer-classic-modules) (7.0)\nRequirement already satisfied: itsdangerous>=0.24 in c:\\users\\jietong.fareast\\appdata\\local\\continuum\\anaconda3\\envs\\aml\\lib\\site-packages (from flask==1.0.3->azureml-defaults==1.1.5.1->azureml-designer-internal==0.0.18->azureml-designer-classic-modules) (1.1.0)\nRequirement already satisfied: Jinja2>=2.10 in c:\\users\\jietong.fareast\\appdata\\local\\continuum\\anaconda3\\envs\\aml\\lib\\site-packages (from flask==1.0.3->azureml-defaults==1.1.5.1->azureml-designer-internal==0.0.18->azureml-designer-classic-modules) (2.10)\nRequirement already satisfied: pyrsistent>=0.14.0 in c:\\users\\jietong.fareast\\appdata\\local\\continuum\\anaconda3\\envs\\aml\\lib\\site-packages (from jsonschema==3.0.1->azureml-designer-core==0.0.31->azureml-designer-internal==0.0.18->azureml-designer-classic-modules) (0.15.7)\nRequirement already satisfied: attrs>=17.4.0 in c:\\users\\jietong.fareast\\appdata\\local\\continuum\\anaconda3\\envs\\aml\\lib\\site-packages (from jsonschema==3.0.1->azureml-designer-core==0.0.31->azureml-designer-internal==0.0.18->azureml-designer-classic-modules) (18.2.0)\nRequirement already satisfied: docutils<0.16,>=0.10 in c:\\users\\jietong.fareast\\appdata\\local\\continuum\\anaconda3\\envs\\aml\\lib\\site-packages (from botocore<1.16.0,>=1.15.31->boto3->smart-open>=1.8.1->gensim==3.8.1->azureml-designer-classic-modules) (0.14)\nCollecting google-api-core<2.0.0dev,>=1.16.0 (from google-cloud-core<2.0dev,>=1.2.0->google-cloud-storage->smart-open>=1.8.1->gensim==3.8.1->azureml-designer-classic-modules)\n  Using cached https://files.pythonhosted.org/packages/63/7e/a523169b0cc9ce62d56e07571db927286a94b1a5f51ac220bd97db825c77/google_api_core-1.16.0-py2.py3-none-any.whl\nCollecting cachetools<5.0,>=2.0.0 (from google-auth<2.0dev,>=1.11.0->google-cloud-storage->smart-open>=1.8.1->gensim==3.8.1->azureml-designer-classic-modules)\n  Using cached https://files.pythonhosted.org/packages/08/6a/abf83cb951617793fd49c98cb9456860f5df66ff89883c8660aa0672d425/cachetools-4.0.0-py3-none-any.whl\nCollecting rsa<4.1,>=3.1.4 (from google-auth<2.0dev,>=1.11.0->google-cloud-storage->smart-open>=1.8.1->gensim==3.8.1->azureml-designer-classic-modules)\n  Using cached https://files.pythonhosted.org/packages/02/e5/38518af393f7c214357079ce67a317307936896e961e35450b70fad2a9cf/rsa-4.0-py2.py3-none-any.whl\nCollecting pyasn1-modules>=0.2.1 (from google-auth<2.0dev,>=1.11.0->google-cloud-storage->smart-open>=1.8.1->gensim==3.8.1->azureml-designer-classic-modules)\n  Using cached https://files.pythonhosted.org/packages/95/de/214830a981892a3e286c3794f41ae67a4495df1108c3da8a9f62159b9a9d/pyasn1_modules-0.2.8-py2.py3-none-any.whl\nRequirement already satisfied: backports.weakref in c:\\users\\jietong.fareast\\appdata\\local\\continuum\\anaconda3\\envs\\aml\\lib\\site-packages (from backports.tempfile->azureml-core==1.1.5.*->azureml-pipeline-core==1.1.5->azureml-designer-internal==0.0.18->azureml-designer-classic-modules) (1.0.post1)\nRequirement already satisfied: azure-mgmt-nspkg>=2.0.0 in c:\\users\\jietong.fareast\\appdata\\local\\continuum\\anaconda3\\envs\\aml\\lib\\site-packages (from azure-mgmt-keyvault>=0.40.0->azureml-core==1.1.5.*->azureml-pipeline-core==1.1.5->azureml-designer-internal==0.0.18->azureml-designer-classic-modules) (3.0.2)\nRequirement already satisfied: jeepney in c:\\users\\jietong.fareast\\appdata\\local\\continuum\\anaconda3\\envs\\aml\\lib\\site-packages (from SecretStorage->azureml-core==1.1.5.*->azureml-pipeline-core==1.1.5->azureml-designer-internal==0.0.18->azureml-designer-classic-modules) (0.4)\nRequirement already satisfied: pypiwin32==223; sys_platform == \"win32\" and python_version >= \"3.6\" in c:\\users\\jietong.fareast\\appdata\\local\\continuum\\anaconda3\\envs\\aml\\lib\\site-packages (from docker->azureml-core==1.1.5.*->azureml-pipeline-core==1.1.5->azureml-designer-internal==0.0.18->azureml-designer-classic-modules) (223)\nRequirement already satisfied: websocket-client>=0.32.0 in c:\\users\\jietong.fareast\\appdata\\local\\continuum\\anaconda3\\envs\\aml\\lib\\site-packages (from docker->azureml-core==1.1.5.*->azureml-pipeline-core==1.1.5->azureml-designer-internal==0.0.18->azureml-designer-classic-modules) (0.55.0)\nRequirement already satisfied: docker-pycreds>=0.4.0 in c:\\users\\jietong.fareast\\appdata\\local\\continuum\\anaconda3\\envs\\aml\\lib\\site-packages (from docker->azureml-core==1.1.5.*->azureml-pipeline-core==1.1.5->azureml-designer-internal==0.0.18->azureml-designer-classic-modules) (0.4.0)\nRequirement already satisfied: isodate>=0.6.0 in c:\\users\\jietong.fareast\\appdata\\local\\continuum\\anaconda3\\envs\\aml\\lib\\site-packages (from msrest>=0.5.1->azureml-core==1.1.5.*->azureml-pipeline-core==1.1.5->azureml-designer-internal==0.0.18->azureml-designer-classic-modules) (0.6.0)\nRequirement already satisfied: requests-oauthlib>=0.5.0 in c:\\users\\jietong.fareast\\appdata\\local\\continuum\\anaconda3\\envs\\aml\\lib\\site-packages (from msrest>=0.5.1->azureml-core==1.1.5.*->azureml-pipeline-core==1.1.5->azureml-designer-internal==0.0.18->azureml-designer-classic-modules) (1.2.0)\nRequirement already satisfied: pyasn1>=0.1.1 in c:\\users\\jietong.fareast\\appdata\\local\\continuum\\anaconda3\\envs\\aml\\lib\\site-packages (from ndg-httpsclient->azureml-core==1.1.5.*->azureml-pipeline-core==1.1.5->azureml-designer-internal==0.0.18->azureml-designer-classic-modules) (0.4.5)\nCollecting msal-extensions~=0.1.3 (from azure-identity>=1.2.0->azureml-dataprep[fuse]<1.4.0a,>=1.3.5->azureml-defaults==1.1.5.1->azureml-designer-internal==0.0.18->azureml-designer-classic-modules)\n  Using cached https://files.pythonhosted.org/packages/21/9b/8bc67822e98573fe0460e30ad0202ab9e0638a42878041c65a6fe857babe/msal_extensions-0.1.3-py2.py3-none-any.whl\nCollecting azure-core<2.0.0,>=1.0.0 (from azure-identity>=1.2.0->azureml-dataprep[fuse]<1.4.0a,>=1.3.5->azureml-defaults==1.1.5.1->azureml-designer-internal==0.0.18->azureml-designer-classic-modules)\n  Using cached https://files.pythonhosted.org/packages/41/ed/3fe8be1f383bdaea4329462f5b2215785090547ac439965c48e814b8f02e/azure_core-1.3.0-py2.py3-none-any.whl\nCollecting msal<2.0.0,>=1.0.0 (from azure-identity>=1.2.0->azureml-dataprep[fuse]<1.4.0a,>=1.3.5->azureml-defaults==1.1.5.1->azureml-designer-internal==0.0.18->azureml-designer-classic-modules)\n  Using cached https://files.pythonhosted.org/packages/d6/de/11e9def2d98da8ddd1793db5e4b3c4398d923a561dad250bcf3cdce9be2b/msal-1.1.0-py2.py3-none-any.whl\nRequirement already satisfied: MarkupSafe>=0.23 in c:\\users\\jietong.fareast\\appdata\\local\\continuum\\anaconda3\\envs\\aml\\lib\\site-packages (from Jinja2>=2.10->flask==1.0.3->azureml-defaults==1.1.5.1->azureml-designer-internal==0.0.18->azureml-designer-classic-modules) (1.1.0)\nCollecting protobuf>=3.4.0 (from google-api-core<2.0.0dev,>=1.16.0->google-cloud-core<2.0dev,>=1.2.0->google-cloud-storage->smart-open>=1.8.1->gensim==3.8.1->azureml-designer-classic-modules)\n  Using cached https://files.pythonhosted.org/packages/ff/52/a71156b82dbb8a40833b7a571e22c9e65ca4204a56739f97d3eaa25d111e/protobuf-3.11.3-cp36-cp36m-win_amd64.whl\nCollecting googleapis-common-protos<2.0dev,>=1.6.0 (from google-api-core<2.0.0dev,>=1.16.0->google-cloud-core<2.0dev,>=1.2.0->google-cloud-storage->smart-open>=1.8.1->gensim==3.8.1->azureml-designer-classic-modules)\nRequirement already satisfied: azure-nspkg>=3.0.0 in c:\\users\\jietong.fareast\\appdata\\local\\continuum\\anaconda3\\envs\\aml\\lib\\site-packages (from azure-mgmt-nspkg>=2.0.0->azure-mgmt-keyvault>=0.40.0->azureml-core==1.1.5.*->azureml-pipeline-core==1.1.5->azureml-designer-internal==0.0.18->azureml-designer-classic-modules) (3.0.2)\nRequirement already satisfied: pywin32>=223 in c:\\users\\jietong.fareast\\appdata\\local\\continuum\\anaconda3\\envs\\aml\\lib\\site-packages (from pypiwin32==223; sys_platform == \"win32\" and python_version >= \"3.6\"->docker->azureml-core==1.1.5.*->azureml-pipeline-core==1.1.5->azureml-designer-internal==0.0.18->azureml-designer-classic-modules) (223)\nRequirement already satisfied: oauthlib>=3.0.0 in c:\\users\\jietong.fareast\\appdata\\local\\continuum\\anaconda3\\envs\\aml\\lib\\site-packages (from requests-oauthlib>=0.5.0->msrest>=0.5.1->azureml-core==1.1.5.*->azureml-pipeline-core==1.1.5->azureml-designer-internal==0.0.18->azureml-designer-classic-modules) (3.0.1)\nCollecting portalocker~=1.0 (from msal-extensions~=0.1.3->azure-identity>=1.2.0->azureml-dataprep[fuse]<1.4.0a,>=1.3.5->azureml-defaults==1.1.5.1->azureml-designer-internal==0.0.18->azureml-designer-classic-modules)\n  Using cached https://files.pythonhosted.org/packages/64/03/9abfb3374d67838daf24f1a388528714bec1debb1d13749f0abd7fb07cfb/portalocker-1.6.0-py2.py3-none-any.whl\nInstalling collected packages: scipy, distro, dotnetcore2, scikit-learn, nimbusml, matplotlib, lightgbm, azure-storage-common, azure-storage-blob, botocore, s3transfer, boto3, protobuf, cachetools, rsa, pyasn1-modules, google-auth, googleapis-common-protos, google-api-core, google-cloud-core, google-resumable-media, google-cloud-storage, smart-open, gensim, azureml-pipeline-core, cloudpickle, azureml-dataprep-native, msal, portalocker, msal-extensions, azure-core, azure-identity, fusepy, azureml-dataprep, gunicorn, json-logging-py, configparser, werkzeug, liac-arff, dill, azureml-model-management-sdk, flask, azureml-defaults, pyarrow, pycryptodomex, ruamel.yaml, more-itertools, azureml-designer-core, azureml-designer-internal, imbalanced-learn, azureml-designer-classic-modules\nSuccessfully installed azure-core-1.3.0 azure-identity-1.3.0 azure-storage-blob-1.5.0 azure-storage-common-1.4.2 azureml-dataprep-1.3.5 azureml-dataprep-native-14.1.0 azureml-defaults-1.1.5.1 azureml-designer-classic-modules-0.0.118 azureml-designer-core-0.0.31 azureml-designer-internal-0.0.18 azureml-model-management-sdk-1.0.1b6.post1 azureml-pipeline-core-1.1.5 boto3-1.12.31 botocore-1.15.31 cachetools-4.0.0 cloudpickle-1.3.0 configparser-3.7.4 dill-0.3.1.1 distro-1.4.0 dotnetcore2-2.1.13 flask-1.0.3 fusepy-3.0.1 gensim-3.8.1 google-api-core-1.16.0 google-auth-1.12.0 google-cloud-core-1.3.0 google-cloud-storage-1.26.0 google-resumable-media-0.5.0 googleapis-common-protos-1.51.0 gunicorn-19.9.0 imbalanced-learn-0.4.3 json-logging-py-0.2 liac-arff-2.4.0 lightgbm-2.2.3 matplotlib-3.1.3 more-itertools-6.0.0 msal-1.1.0 msal-extensions-0.1.3 nimbusml-1.6.1 portalocker-1.6.0 protobuf-3.11.3 pyarrow-0.16.0 pyasn1-modules-0.2.8 pycryptodomex-3.7.3 rsa-4.0 ruamel.yaml-0.15.89 s3transfer-0.3.3 scikit-learn-0.22.2 scipy-1.4.1 smart-open-1.10.0 werkzeug-0.16.1\nspyder 3.3.2 requires pyqt5<5.10; python_version >= \"3\", which is not installed.\nazureml-pipeline 1.0.17 has requirement azureml-pipeline-core==1.0.17.*, but you'll have azureml-pipeline-core 1.1.5 which is incompatible.\nazureml-pipeline-steps 1.0.17 has requirement azureml-pipeline-core==1.0.17.*, but you'll have azureml-pipeline-core 1.1.5 which is incompatible.\npyasn1-modules 0.2.8 has requirement pyasn1<0.5.0,>=0.4.6, but you'll have pyasn1 0.4.5 which is incompatible.\nazureml-designer-core 0.0.31 has requirement python-dateutil==2.8.1, but you'll have python-dateutil 2.7.5 which is incompatible.\n  The script distro.exe is installed in 'C:\\Users\\jietong.FAREAST\\AppData\\Roaming\\Python\\Python36\\Scripts' which is not on PATH.\n  Consider adding this directory to PATH or, if you prefer to suppress this warning, use --no-warn-script-location.\n  The scripts pyrsa-decrypt.exe, pyrsa-encrypt.exe, pyrsa-keygen.exe, pyrsa-priv2pub.exe, pyrsa-sign.exe and pyrsa-verify.exe are installed in 'C:\\Users\\jietong.FAREAST\\AppData\\Roaming\\Python\\Python36\\Scripts' which is not on PATH.\n  Consider adding this directory to PATH or, if you prefer to suppress this warning, use --no-warn-script-location.\n  The script azmldprep.exe is installed in 'C:\\Users\\jietong.FAREAST\\AppData\\Roaming\\Python\\Python36\\Scripts' which is not on PATH.\n  Consider adding this directory to PATH or, if you prefer to suppress this warning, use --no-warn-script-location.\n  The scripts gunicorn.exe and gunicorn_paster.exe are installed in 'C:\\Users\\jietong.FAREAST\\AppData\\Roaming\\Python\\Python36\\Scripts' which is not on PATH.\n  Consider adding this directory to PATH or, if you prefer to suppress this warning, use --no-warn-script-location.\n  The script flask.exe is installed in 'C:\\Users\\jietong.FAREAST\\AppData\\Roaming\\Python\\Python36\\Scripts' which is not on PATH.\n  Consider adding this directory to PATH or, if you prefer to suppress this warning, use --no-warn-script-location.\n  The script plasma_store.exe is installed in 'C:\\Users\\jietong.FAREAST\\AppData\\Roaming\\Python\\Python36\\Scripts' which is not on PATH.\n  Consider adding this directory to PATH or, if you prefer to suppress this warning, use --no-warn-script-location.\nRequirement already satisfied: azureml-designer-core in c:\\users\\jietong.fareast\\appdata\\roaming\\python\\python36\\site-packages (0.0.31)\nCollecting python-dateutil==2.8.1 (from azureml-designer-core)\n  Using cached https://files.pythonhosted.org/packages/d4/70/d60450c3dd48ef87586924207ae8907090de0b306af2bce5d134d78615cb/python_dateutil-2.8.1-py2.py3-none-any.whl\nRequirement already satisfied: ruamel.yaml==0.15.89 in c:\\users\\jietong.fareast\\appdata\\roaming\\python\\python36\\site-packages (from azureml-designer-core) (0.15.89)\nRequirement already satisfied: pycryptodomex==3.7.3 in c:\\users\\jietong.fareast\\appdata\\roaming\\python\\python36\\site-packages (from azureml-designer-core) (3.7.3)\nRequirement already satisfied: more-itertools==6.0.0 in c:\\users\\jietong.fareast\\appdata\\roaming\\python\\python36\\site-packages (from azureml-designer-core) (6.0.0)\nRequirement already satisfied: pyarrow==0.16.0 in c:\\users\\jietong.fareast\\appdata\\roaming\\python\\python36\\site-packages (from azureml-designer-core) (0.16.0)\nRequirement already satisfied: jsonschema==3.0.1 in c:\\users\\jietong.fareast\\appdata\\local\\continuum\\anaconda3\\envs\\aml\\lib\\site-packages (from azureml-designer-core) (3.0.1)\nRequirement already satisfied: pandas==0.25.3 in c:\\users\\jietong.fareast\\appdata\\local\\continuum\\anaconda3\\envs\\aml\\lib\\site-packages (from azureml-designer-core) (0.25.3)\nRequirement already satisfied: numpy==1.18.1 in c:\\users\\jietong.fareast\\appdata\\local\\continuum\\anaconda3\\envs\\aml\\lib\\site-packages (from azureml-designer-core) (1.18.1)\nRequirement already satisfied: distro==1.4.0 in c:\\users\\jietong.fareast\\appdata\\roaming\\python\\python36\\site-packages (from azureml-designer-core) (1.4.0)\nRequirement already satisfied: six>=1.5 in c:\\users\\jietong.fareast\\appdata\\local\\continuum\\anaconda3\\envs\\aml\\lib\\site-packages (from python-dateutil==2.8.1->azureml-designer-core) (1.12.0)\nRequirement already satisfied: attrs>=17.4.0 in c:\\users\\jietong.fareast\\appdata\\local\\continuum\\anaconda3\\envs\\aml\\lib\\site-packages (from jsonschema==3.0.1->azureml-designer-core) (18.2.0)\nRequirement already satisfied: pyrsistent>=0.14.0 in c:\\users\\jietong.fareast\\appdata\\local\\continuum\\anaconda3\\envs\\aml\\lib\\site-packages (from jsonschema==3.0.1->azureml-designer-core) (0.15.7)\nRequirement already satisfied: setuptools in c:\\users\\jietong.fareast\\appdata\\local\\continuum\\anaconda3\\envs\\aml\\lib\\site-packages (from jsonschema==3.0.1->azureml-designer-core) (40.6.3)\nRequirement already satisfied: pytz>=2017.2 in c:\\users\\jietong.fareast\\appdata\\local\\continuum\\anaconda3\\envs\\aml\\lib\\site-packages (from pandas==0.25.3->azureml-designer-core) (2018.7)\nInstalling collected packages: python-dateutil\nSuccessfully installed python-dateutil-2.8.1\nazureml-designer-core 0.0.31 has requirement ruamel.yaml==0.15.89, but you'll have ruamel-yaml 0.15.46 which is incompatible.\nazureml-pipeline-steps 1.0.17 has requirement azureml-pipeline-core==1.0.17.*, but you'll have azureml-pipeline-core 1.1.5 which is incompatible.\n"
    }
   ],
   "source": [
    "!pip install azureml-designer-classic-modules --user --ignore-installed\n",
    "!pip install azureml-designer-core --user --ignore-installed"
   ]
  },
  {
   "cell_type": "code",
   "execution_count": 1,
   "metadata": {},
   "outputs": [
    {
     "output_type": "error",
     "ename": "ModuleNotFoundError",
     "evalue": "No module named 'azureml.studio'",
     "traceback": [
      "\u001b[1;31m---------------------------------------------------------------------------\u001b[0m",
      "\u001b[1;31mModuleNotFoundError\u001b[0m                       Traceback (most recent call last)",
      "\u001b[1;32m<ipython-input-1-363e8da29cd7>\u001b[0m in \u001b[0;36m<module>\u001b[1;34m\u001b[0m\n\u001b[1;32m----> 1\u001b[1;33m \u001b[1;32mfrom\u001b[0m \u001b[0mazureml\u001b[0m\u001b[1;33m.\u001b[0m\u001b[0mstudio\u001b[0m\u001b[1;33m.\u001b[0m\u001b[0mcore\u001b[0m\u001b[1;33m.\u001b[0m\u001b[0mio\u001b[0m\u001b[1;33m.\u001b[0m\u001b[0mdata_frame_directory\u001b[0m \u001b[1;32mimport\u001b[0m \u001b[0mDataFrameDirectory\u001b[0m\u001b[1;33m\u001b[0m\u001b[1;33m\u001b[0m\u001b[0m\n\u001b[0m",
      "\u001b[1;31mModuleNotFoundError\u001b[0m: No module named 'azureml.studio'"
     ]
    }
   ],
   "source": [
    "from azureml.studio.core.io.data_frame_directory import DataFrameDirectory"
   ]
  },
  {
   "cell_type": "code",
   "execution_count": 4,
   "metadata": {},
   "outputs": [
    {
     "name": "stdout",
     "output_type": "stream",
     "text": [
      "/mnt/batch/tasks/shared/LS_root/mounts/clusters/jieci-l/code/Users/jietong/chitchat/modules/todfd\n"
     ]
    }
   ],
   "source": [
    "import os\n",
    "\n",
    "print(os.getcwd())"
   ]
  },
  {
   "cell_type": "code",
   "execution_count": 7,
   "metadata": {},
   "outputs": [
    {
     "name": "stdout",
     "output_type": "stream",
     "text": [
      "  m:Query Market\n",
      "0   hello  en-us\n",
      "1  world!  en-us\n",
      "2     foo  zh-cn\n",
      "3     bar  en-gb\n",
      "testoutput  test_todfd.ipynb  Untitled.ipynb\n"
     ]
    }
   ],
   "source": [
    "import pandas as pd\n",
    "\n",
    "df = pd.DataFrame({'m:Query': ['hello', 'world!', 'foo', 'bar'],\n",
    "                   'Market': ['en-us', 'en-us', 'zh-cn', 'en-gb']\n",
    "                  }, columns=['m:Query', 'Market'])\n",
    "\n",
    "dfd = DataFrameDirectory.create(df)\n",
    "\n",
    "print(df)\n",
    "\n",
    "dfd.dump('./testoutput')\n",
    "\n",
    "!ls"
   ]
  },
  {
   "cell_type": "code",
   "execution_count": null,
   "metadata": {},
   "outputs": [],
   "source": []
  }
 ],
 "metadata": {
  "kernelspec": {
   "display_name": "Python 3",
   "language": "python",
   "name": "python3"
  },
  "language_info": {
   "codemirror_mode": {
    "name": "ipython",
    "version": 3
   },
   "file_extension": ".py",
   "mimetype": "text/x-python",
   "name": "python",
   "nbconvert_exporter": "python",
   "pygments_lexer": "ipython3",
   "version": "3.6.9"
  }
 },
 "nbformat": 4,
 "nbformat_minor": 2
}